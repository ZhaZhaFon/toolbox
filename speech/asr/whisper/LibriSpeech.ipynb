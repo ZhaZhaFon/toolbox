{
 "cells": [
  {
   "cell_type": "markdown",
   "metadata": {
    "id": "v5hvo8QWN-a9"
   },
   "source": [
    "# Installing Whisper\n",
    "\n",
    "The commands below will install the Python packages needed to use Whisper models and evaluate the transcription results."
   ]
  },
  {
   "cell_type": "code",
   "execution_count": 7,
   "metadata": {},
   "outputs": [
    {
     "name": "stdout",
     "output_type": "stream",
     "text": [
      "Writing to /home/zzf/.config/pip/pip.conf\n",
      "Looking in indexes: https://mirrors.aliyun.com/pypi/simple/\n",
      "Requirement already satisfied: openai-whisper in /data/zzf_data/software/anaconda3/envs/whisper/lib/python3.8/site-packages (20231117)\n",
      "\u001b[33mWARNING: Keyring is skipped due to an exception: Failed to unlock the collection!\u001b[0m\n",
      "Requirement already satisfied: torch in /data/zzf_data/software/anaconda3/envs/whisper/lib/python3.8/site-packages (from openai-whisper) (1.8.0)\n",
      "Requirement already satisfied: more-itertools in /data/zzf_data/software/anaconda3/envs/whisper/lib/python3.8/site-packages (from openai-whisper) (8.7.0)\n",
      "Requirement already satisfied: numpy in /data/zzf_data/software/anaconda3/envs/whisper/lib/python3.8/site-packages (from openai-whisper) (1.20.3)\n",
      "Requirement already satisfied: triton<3,>=2.0.0 in /home/zzf/.local/lib/python3.8/site-packages (from openai-whisper) (2.2.0)\n",
      "Requirement already satisfied: tiktoken in /data/zzf_data/software/anaconda3/envs/whisper/lib/python3.8/site-packages (from openai-whisper) (0.6.0)\n",
      "Requirement already satisfied: tqdm in /home/zzf/.local/lib/python3.8/site-packages (from openai-whisper) (4.66.2)\n",
      "Requirement already satisfied: numba in /data/zzf_data/software/anaconda3/envs/whisper/lib/python3.8/site-packages (from openai-whisper) (0.54.1)\n",
      "Requirement already satisfied: filelock in /home/zzf/.local/lib/python3.8/site-packages (from triton<3,>=2.0.0->openai-whisper) (3.13.4)\n",
      "Requirement already satisfied: setuptools in /data/zzf_data/software/anaconda3/envs/whisper/lib/python3.8/site-packages (from numba->openai-whisper) (69.5.1)\n",
      "Requirement already satisfied: llvmlite<0.38,>=0.37.0rc1 in /data/zzf_data/software/anaconda3/envs/whisper/lib/python3.8/site-packages (from numba->openai-whisper) (0.37.0)\n",
      "Requirement already satisfied: requests>=2.26.0 in /data/zzf_data/software/anaconda3/envs/whisper/lib/python3.8/site-packages (from tiktoken->openai-whisper) (2.26.0)\n",
      "Requirement already satisfied: regex>=2022.1.18 in /home/zzf/.local/lib/python3.8/site-packages (from tiktoken->openai-whisper) (2022.3.2)\n",
      "Requirement already satisfied: urllib3<1.27,>=1.21.1 in /data/zzf_data/software/anaconda3/envs/whisper/lib/python3.8/site-packages (from requests>=2.26.0->tiktoken->openai-whisper) (1.26.7)\n",
      "Requirement already satisfied: certifi>=2017.4.17 in /data/zzf_data/software/anaconda3/envs/whisper/lib/python3.8/site-packages (from requests>=2.26.0->tiktoken->openai-whisper) (2020.12.5)\n",
      "Requirement already satisfied: idna<4,>=2.5 in /data/zzf_data/software/anaconda3/envs/whisper/lib/python3.8/site-packages (from requests>=2.26.0->tiktoken->openai-whisper) (3.3)\n",
      "Requirement already satisfied: charset-normalizer~=2.0.0 in /data/zzf_data/software/anaconda3/envs/whisper/lib/python3.8/site-packages (from requests>=2.26.0->tiktoken->openai-whisper) (2.0.8)\n",
      "Requirement already satisfied: typing-extensions in /home/zzf/.local/lib/python3.8/site-packages (from torch->openai-whisper) (4.11.0)\n",
      "Looking in indexes: https://mirrors.aliyun.com/pypi/simple/\n",
      "Requirement already satisfied: torch==1.8.0 in /data/zzf_data/software/anaconda3/envs/whisper/lib/python3.8/site-packages (1.8.0)\n",
      "Requirement already satisfied: torchaudio==0.8.0 in /data/zzf_data/software/anaconda3/envs/whisper/lib/python3.8/site-packages (0.8.0)\n",
      "\u001b[33mWARNING: Keyring is skipped due to an exception: Failed to unlock the collection!\u001b[0m\n",
      "\u001b[31mERROR: Could not find a version that satisfies the requirement torchvision==0.8.2+cu110\u001b[0m\n",
      "\u001b[31mERROR: No matching distribution found for torchvision==0.8.2+cu110\u001b[0m\n",
      "Looking in indexes: https://mirrors.aliyun.com/pypi/simple/\n",
      "Requirement already satisfied: jiwer in /data/zzf_data/software/anaconda3/envs/whisper/lib/python3.8/site-packages (3.0.3)\n",
      "Requirement already satisfied: click<9.0.0,>=8.1.3 in /data/zzf_data/software/anaconda3/envs/whisper/lib/python3.8/site-packages (from jiwer) (8.1.7)\n",
      "Requirement already satisfied: rapidfuzz<4,>=3 in /data/zzf_data/software/anaconda3/envs/whisper/lib/python3.8/site-packages (from jiwer) (3.8.1)\n",
      "Looking in indexes: https://mirrors.aliyun.com/pypi/simple/\n",
      "Requirement already satisfied: numpy==1.20.3 in /data/zzf_data/software/anaconda3/envs/whisper/lib/python3.8/site-packages (1.20.3)\n",
      "Looking in indexes: https://mirrors.aliyun.com/pypi/simple/\n",
      "Requirement already satisfied: setuptools-rust in /data/zzf_data/software/anaconda3/envs/whisper/lib/python3.8/site-packages (1.9.0)\n",
      "Requirement already satisfied: tomli>=1.2.1 in /home/zzf/.local/lib/python3.8/site-packages (from setuptools-rust) (2.0.1)\n",
      "Requirement already satisfied: setuptools>=62.4 in /data/zzf_data/software/anaconda3/envs/whisper/lib/python3.8/site-packages (from setuptools-rust) (69.5.1)\n",
      "Requirement already satisfied: semantic-version<3,>=2.8.2 in /data/zzf_data/software/anaconda3/envs/whisper/lib/python3.8/site-packages (from setuptools-rust) (2.10.0)\n",
      "prepare.sh: line 8: mkdirs: command not found\n",
      "fatal: destination path 'whisper-base.en' already exists and is not an empty directory.\n",
      "rm: cannot remove 'flax_model.msgpack': No such file or directory\n",
      "--2024-04-19 04:27:25--  https://hf-mirror.com/openai/whisper-base.en/resolve/main/flax_model.msgpack?download=true\n",
      "Resolving hf-mirror.com (hf-mirror.com)... 160.16.199.204, 133.242.169.68, 153.121.57.40\n",
      "Connecting to hf-mirror.com (hf-mirror.com)|160.16.199.204|:443... connected.\n",
      "HTTP request sent, awaiting response... 302 Found\n",
      "Location: https://cdn-lfs.hf-mirror.com/repos/87/ed/87ed574d954a75f12f9f491167f1a0283f7d409293803c435abc7b542c59caa1/e2dd00fb9f37f497421bdd7a8b17b5378f95e7543e6b50f79b936ccdd55b7815?response-content-disposition=attachment%3B+filename*%3DUTF-8%27%27flax_model.msgpack%3B+filename%3D%22flax_model.msgpack%22%3B&Expires=1713760045&Policy=eyJTdGF0ZW1lbnQiOlt7IkNvbmRpdGlvbiI6eyJEYXRlTGVzc1RoYW4iOnsiQVdTOkVwb2NoVGltZSI6MTcxMzc2MDA0NX19LCJSZXNvdXJjZSI6Imh0dHBzOi8vY2RuLWxmcy5odWdnaW5nZmFjZS5jby9yZXBvcy84Ny9lZC84N2VkNTc0ZDk1NGE3NWYxMmY5ZjQ5MTE2N2YxYTAyODNmN2Q0MDkyOTM4MDNjNDM1YWJjN2I1NDJjNTljYWExL2UyZGQwMGZiOWYzN2Y0OTc0MjFiZGQ3YThiMTdiNTM3OGY5NWU3NTQzZTZiNTBmNzliOTM2Y2NkZDU1Yjc4MTU%7EcmVzcG9uc2UtY29udGVudC1kaXNwb3NpdGlvbj0qIn1dfQ__&Signature=XMNMNV7KI8cjG2aIRoy4RIr4GV3YU3qcoqJZgXoIv38sOOBNxTeyU-xxirKP6VI1cVCOz3cB7jyH36N8qLj288DUlbSYHcJ6UO6HHBxN8tPA0Tuu4P-AFTeOtyJ2eNpgwHg5b60XfAvURUjL4lUuIP7DA2A77KIO00XYfINRjz%7E5J45Qr3Q5XjoV2EwqOBdy7hFwNEYygOdvsO4TIjs5kVW3JwhX9yaixgWXTRVdxA3Nck%7E4dZi4Hg2Vf%7EAEbFUeH8HZNcLUh6RMIUnO2LQ0AOSUf3A8uObii1i7jpaH2R8aLbhCtXgOYB2KEaZMY6jyQxEomw%7EPA9YlZpbXFyMvLw__&Key-Pair-Id=KVTP0A1DKRTAX [following]\n",
      "--2024-04-19 04:27:25--  https://cdn-lfs.hf-mirror.com/repos/87/ed/87ed574d954a75f12f9f491167f1a0283f7d409293803c435abc7b542c59caa1/e2dd00fb9f37f497421bdd7a8b17b5378f95e7543e6b50f79b936ccdd55b7815?response-content-disposition=attachment%3B+filename*%3DUTF-8%27%27flax_model.msgpack%3B+filename%3D%22flax_model.msgpack%22%3B&Expires=1713760045&Policy=eyJTdGF0ZW1lbnQiOlt7IkNvbmRpdGlvbiI6eyJEYXRlTGVzc1RoYW4iOnsiQVdTOkVwb2NoVGltZSI6MTcxMzc2MDA0NX19LCJSZXNvdXJjZSI6Imh0dHBzOi8vY2RuLWxmcy5odWdnaW5nZmFjZS5jby9yZXBvcy84Ny9lZC84N2VkNTc0ZDk1NGE3NWYxMmY5ZjQ5MTE2N2YxYTAyODNmN2Q0MDkyOTM4MDNjNDM1YWJjN2I1NDJjNTljYWExL2UyZGQwMGZiOWYzN2Y0OTc0MjFiZGQ3YThiMTdiNTM3OGY5NWU3NTQzZTZiNTBmNzliOTM2Y2NkZDU1Yjc4MTU%7EcmVzcG9uc2UtY29udGVudC1kaXNwb3NpdGlvbj0qIn1dfQ__&Signature=XMNMNV7KI8cjG2aIRoy4RIr4GV3YU3qcoqJZgXoIv38sOOBNxTeyU-xxirKP6VI1cVCOz3cB7jyH36N8qLj288DUlbSYHcJ6UO6HHBxN8tPA0Tuu4P-AFTeOtyJ2eNpgwHg5b60XfAvURUjL4lUuIP7DA2A77KIO00XYfINRjz%7E5J45Qr3Q5XjoV2EwqOBdy7hFwNEYygOdvsO4TIjs5kVW3JwhX9yaixgWXTRVdxA3Nck%7E4dZi4Hg2Vf%7EAEbFUeH8HZNcLUh6RMIUnO2LQ0AOSUf3A8uObii1i7jpaH2R8aLbhCtXgOYB2KEaZMY6jyQxEomw%7EPA9YlZpbXFyMvLw__&Key-Pair-Id=KVTP0A1DKRTAX\n",
      "Resolving cdn-lfs.hf-mirror.com (cdn-lfs.hf-mirror.com)... 2606:4700:3036::ac43:94d2, 2606:4700:3031::6815:3faa, 172.67.148.210, ...\n",
      "Connecting to cdn-lfs.hf-mirror.com (cdn-lfs.hf-mirror.com)|2606:4700:3036::ac43:94d2|:443... connected.\n",
      "HTTP request sent, awaiting response... 200 OK\n",
      "Length: 290382449 (277M) [application/octet-stream]\n",
      "Saving to: ‘flax_model.msgpack?download=true.1’\n",
      "\n",
      "flax_model.msgpack? 100%[===================>] 276.93M  19.3MB/s    in 29s     \n",
      "\n",
      "2024-04-19 04:27:56 (9.65 MB/s) - ‘flax_model.msgpack?download=true.1’ saved [290382449/290382449]\n",
      "\n",
      "--2024-04-19 04:27:56--  https://hf-mirror.com/openai/whisper-base.en/resolve/main/model.safetensors?download=true\n",
      "Resolving hf-mirror.com (hf-mirror.com)... 153.121.57.40, 160.16.199.204, 133.242.169.68\n",
      "Connecting to hf-mirror.com (hf-mirror.com)|153.121.57.40|:443... connected.\n",
      "HTTP request sent, awaiting response... 302 Found\n",
      "Location: https://cdn-lfs.hf-mirror.com/repos/87/ed/87ed574d954a75f12f9f491167f1a0283f7d409293803c435abc7b542c59caa1/d4dd5542fd6a1d35639e21384238f3bfe6c557c849d392b5905d33ee29e71db5?response-content-disposition=attachment%3B+filename*%3DUTF-8%27%27model.safetensors%3B+filename%3D%22model.safetensors%22%3B&Expires=1713760076&Policy=eyJTdGF0ZW1lbnQiOlt7IkNvbmRpdGlvbiI6eyJEYXRlTGVzc1RoYW4iOnsiQVdTOkVwb2NoVGltZSI6MTcxMzc2MDA3Nn19LCJSZXNvdXJjZSI6Imh0dHBzOi8vY2RuLWxmcy5odWdnaW5nZmFjZS5jby9yZXBvcy84Ny9lZC84N2VkNTc0ZDk1NGE3NWYxMmY5ZjQ5MTE2N2YxYTAyODNmN2Q0MDkyOTM4MDNjNDM1YWJjN2I1NDJjNTljYWExL2Q0ZGQ1NTQyZmQ2YTFkMzU2MzllMjEzODQyMzhmM2JmZTZjNTU3Yzg0OWQzOTJiNTkwNWQzM2VlMjllNzFkYjU%7EcmVzcG9uc2UtY29udGVudC1kaXNwb3NpdGlvbj0qIn1dfQ__&Signature=w%7EpUw%7Ea%7EspceQdfveBLX27i8N0xw7NcleHqIu07DyT3JQH6tqViuWQTCCz9cxouBgofJuGw8ZivtEjSoLXRgDi2Gnske8sfXiwdomtkoTAECwMOdqjSjbzEPngNlDVqxTwA5T6B3J1rFYEKUOwC7JetJm7SbxicEmVo0dYUukaZv2yNrRT45olgwLv9uFeAXMcGVEusnQVY9jKsh7xa5GSxBR%7ET0S20qt1RiMn1DNqDMnCWLhgiVdMAbyxG2exkjjDExh6wgb6oFfepA42HQIbwF4cKkEo2%7E-1dt5IkxHi97mF2dIJf%7Eyi%7E8oKhWOJrSZcnE1qUS5DoU7ykTUV7k0A__&Key-Pair-Id=KVTP0A1DKRTAX [following]\n",
      "--2024-04-19 04:27:56--  https://cdn-lfs.hf-mirror.com/repos/87/ed/87ed574d954a75f12f9f491167f1a0283f7d409293803c435abc7b542c59caa1/d4dd5542fd6a1d35639e21384238f3bfe6c557c849d392b5905d33ee29e71db5?response-content-disposition=attachment%3B+filename*%3DUTF-8%27%27model.safetensors%3B+filename%3D%22model.safetensors%22%3B&Expires=1713760076&Policy=eyJTdGF0ZW1lbnQiOlt7IkNvbmRpdGlvbiI6eyJEYXRlTGVzc1RoYW4iOnsiQVdTOkVwb2NoVGltZSI6MTcxMzc2MDA3Nn19LCJSZXNvdXJjZSI6Imh0dHBzOi8vY2RuLWxmcy5odWdnaW5nZmFjZS5jby9yZXBvcy84Ny9lZC84N2VkNTc0ZDk1NGE3NWYxMmY5ZjQ5MTE2N2YxYTAyODNmN2Q0MDkyOTM4MDNjNDM1YWJjN2I1NDJjNTljYWExL2Q0ZGQ1NTQyZmQ2YTFkMzU2MzllMjEzODQyMzhmM2JmZTZjNTU3Yzg0OWQzOTJiNTkwNWQzM2VlMjllNzFkYjU%7EcmVzcG9uc2UtY29udGVudC1kaXNwb3NpdGlvbj0qIn1dfQ__&Signature=w%7EpUw%7Ea%7EspceQdfveBLX27i8N0xw7NcleHqIu07DyT3JQH6tqViuWQTCCz9cxouBgofJuGw8ZivtEjSoLXRgDi2Gnske8sfXiwdomtkoTAECwMOdqjSjbzEPngNlDVqxTwA5T6B3J1rFYEKUOwC7JetJm7SbxicEmVo0dYUukaZv2yNrRT45olgwLv9uFeAXMcGVEusnQVY9jKsh7xa5GSxBR%7ET0S20qt1RiMn1DNqDMnCWLhgiVdMAbyxG2exkjjDExh6wgb6oFfepA42HQIbwF4cKkEo2%7E-1dt5IkxHi97mF2dIJf%7Eyi%7E8oKhWOJrSZcnE1qUS5DoU7ykTUV7k0A__&Key-Pair-Id=KVTP0A1DKRTAX\n",
      "Resolving cdn-lfs.hf-mirror.com (cdn-lfs.hf-mirror.com)... 2606:4700:3036::ac43:94d2, 2606:4700:3031::6815:3faa, 162.159.33.143, ...\n",
      "Connecting to cdn-lfs.hf-mirror.com (cdn-lfs.hf-mirror.com)|2606:4700:3036::ac43:94d2|:443... connected.\n",
      "HTTP request sent, awaiting response... 200 OK\n",
      "Length: 290401888 (277M) [binary/octet-stream]\n",
      "Saving to: ‘model.safetensors?download=true’\n",
      "\n",
      "model.safetensors?d 100%[===================>] 276.95M  38.1MB/s    in 7.7s    \n",
      "\n",
      "2024-04-19 04:28:05 (35.8 MB/s) - ‘model.safetensors?download=true’ saved [290401888/290401888]\n",
      "\n",
      "--2024-04-19 04:28:05--  https://hf-mirror.com/openai/whisper-base.en/resolve/main/pytorch_model.bin?download=true\n",
      "Resolving hf-mirror.com (hf-mirror.com)... 133.242.169.68, 160.16.199.204, 153.121.57.40\n",
      "Connecting to hf-mirror.com (hf-mirror.com)|133.242.169.68|:443... connected.\n",
      "HTTP request sent, awaiting response... 302 Found\n",
      "Location: https://cdn-lfs.hf-mirror.com/repos/87/ed/87ed574d954a75f12f9f491167f1a0283f7d409293803c435abc7b542c59caa1/404fa07b37813e1a425ae22348db6f7d0b359f72acd8d457927cc0d029beb278?response-content-disposition=attachment%3B+filename*%3DUTF-8%27%27pytorch_model.bin%3B+filename%3D%22pytorch_model.bin%22%3B&response-content-type=application%2Foctet-stream&Expires=1713760085&Policy=eyJTdGF0ZW1lbnQiOlt7IkNvbmRpdGlvbiI6eyJEYXRlTGVzc1RoYW4iOnsiQVdTOkVwb2NoVGltZSI6MTcxMzc2MDA4NX19LCJSZXNvdXJjZSI6Imh0dHBzOi8vY2RuLWxmcy5odWdnaW5nZmFjZS5jby9yZXBvcy84Ny9lZC84N2VkNTc0ZDk1NGE3NWYxMmY5ZjQ5MTE2N2YxYTAyODNmN2Q0MDkyOTM4MDNjNDM1YWJjN2I1NDJjNTljYWExLzQwNGZhMDdiMzc4MTNlMWE0MjVhZTIyMzQ4ZGI2ZjdkMGIzNTlmNzJhY2Q4ZDQ1NzkyN2NjMGQwMjliZWIyNzg%7EcmVzcG9uc2UtY29udGVudC1kaXNwb3NpdGlvbj0qJnJlc3BvbnNlLWNvbnRlbnQtdHlwZT0qIn1dfQ__&Signature=BiNuxxVmpSuDUDpKCKMDu1q7obTegINKkTWaL7gZ9afcwasIF8CWt-PDLkcyBPdapRDXRCHQoGtRVK5tMLNdUZqU5%7E6WC2BUt0PadAV0R7PXWih1bUw9EWSWrMIBsq7n3Xz1Hmq2i-3UuE-NC4YHh3RVajzbXuQtl6%7EoU5X09qH4K8h78sS2I2ujqftBYxCVzXOftQ-ffEalEv8t9epukHpRC27C4I3k4yw5MrM4k242TnVzmvWkV6nSSIYXmOaXWroNjqdQWEVEmcEka0163g%7ETbxsdjO6Y-7y5x%7EKYucQn-sc%7EOsng4ivdo08oApchEKuACFdCPfJLdh9trJeiNg__&Key-Pair-Id=KVTP0A1DKRTAX [following]\n",
      "--2024-04-19 04:28:05--  https://cdn-lfs.hf-mirror.com/repos/87/ed/87ed574d954a75f12f9f491167f1a0283f7d409293803c435abc7b542c59caa1/404fa07b37813e1a425ae22348db6f7d0b359f72acd8d457927cc0d029beb278?response-content-disposition=attachment%3B+filename*%3DUTF-8%27%27pytorch_model.bin%3B+filename%3D%22pytorch_model.bin%22%3B&response-content-type=application%2Foctet-stream&Expires=1713760085&Policy=eyJTdGF0ZW1lbnQiOlt7IkNvbmRpdGlvbiI6eyJEYXRlTGVzc1RoYW4iOnsiQVdTOkVwb2NoVGltZSI6MTcxMzc2MDA4NX19LCJSZXNvdXJjZSI6Imh0dHBzOi8vY2RuLWxmcy5odWdnaW5nZmFjZS5jby9yZXBvcy84Ny9lZC84N2VkNTc0ZDk1NGE3NWYxMmY5ZjQ5MTE2N2YxYTAyODNmN2Q0MDkyOTM4MDNjNDM1YWJjN2I1NDJjNTljYWExLzQwNGZhMDdiMzc4MTNlMWE0MjVhZTIyMzQ4ZGI2ZjdkMGIzNTlmNzJhY2Q4ZDQ1NzkyN2NjMGQwMjliZWIyNzg%7EcmVzcG9uc2UtY29udGVudC1kaXNwb3NpdGlvbj0qJnJlc3BvbnNlLWNvbnRlbnQtdHlwZT0qIn1dfQ__&Signature=BiNuxxVmpSuDUDpKCKMDu1q7obTegINKkTWaL7gZ9afcwasIF8CWt-PDLkcyBPdapRDXRCHQoGtRVK5tMLNdUZqU5%7E6WC2BUt0PadAV0R7PXWih1bUw9EWSWrMIBsq7n3Xz1Hmq2i-3UuE-NC4YHh3RVajzbXuQtl6%7EoU5X09qH4K8h78sS2I2ujqftBYxCVzXOftQ-ffEalEv8t9epukHpRC27C4I3k4yw5MrM4k242TnVzmvWkV6nSSIYXmOaXWroNjqdQWEVEmcEka0163g%7ETbxsdjO6Y-7y5x%7EKYucQn-sc%7EOsng4ivdo08oApchEKuACFdCPfJLdh9trJeiNg__&Key-Pair-Id=KVTP0A1DKRTAX\n",
      "Resolving cdn-lfs.hf-mirror.com (cdn-lfs.hf-mirror.com)... 2606:4700:3031::6815:3faa, 2606:4700:3036::ac43:94d2, 162.159.142.99, ...\n",
      "Connecting to cdn-lfs.hf-mirror.com (cdn-lfs.hf-mirror.com)|2606:4700:3031::6815:3faa|:443... connected.\n",
      "HTTP request sent, awaiting response... 200 OK\n",
      "Length: 290451159 (277M) [application/octet-stream]\n",
      "Saving to: ‘pytorch_model.bin?download=true’\n",
      "\n",
      "pytorch_model.bin?d 100%[===================>] 277.00M  17.4MB/s    in 18s     \n",
      "\n",
      "2024-04-19 04:28:25 (15.8 MB/s) - ‘pytorch_model.bin?download=true’ saved [290451159/290451159]\n",
      "\n"
     ]
    }
   ],
   "source": [
    "!bash prepare.sh"
   ]
  },
  {
   "cell_type": "markdown",
   "metadata": {
    "id": "1IMEkgyagYto"
   },
   "source": [
    "# Loading the LibriSpeech dataset\n",
    "\n",
    "The following will load the test-clean split of the LibriSpeech corpus using torchaudio."
   ]
  },
  {
   "cell_type": "code",
   "execution_count": 8,
   "metadata": {
    "id": "3CqtR2Fi5-vP"
   },
   "outputs": [],
   "source": [
    "import os\n",
    "import numpy as np\n",
    "\n",
    "try:\n",
    "    import tensorflow  # required in Colab to avoid protobuf compatibility issues\n",
    "except ImportError:\n",
    "    pass\n",
    "\n",
    "import torch\n",
    "import pandas as pd\n",
    "import whisper\n",
    "import torchaudio\n",
    "\n",
    "from tqdm.notebook import tqdm\n",
    "\n",
    "\n",
    "DEVICE = \"cuda\" if torch.cuda.is_available() else \"cpu\""
   ]
  },
  {
   "cell_type": "code",
   "execution_count": 40,
   "metadata": {
    "id": "GuCCB2KYOJCE"
   },
   "outputs": [],
   "source": [
    "class LibriSpeech(torch.utils.data.Dataset):\n",
    "    \"\"\"\n",
    "    A simple class to wrap LibriSpeech and trim/pad the audio to 30 seconds.\n",
    "    It will drop the last few seconds of a very small portion of the utterances.\n",
    "    \"\"\"\n",
    "    def __init__(self, split=\"test-clean\", device=DEVICE):\n",
    "        self.dataset = torchaudio.datasets.LIBRISPEECH(\n",
    "            root=\"/home/zzf/playground/corpus/LibriSpeech\",\n",
    "            url=split,\n",
    "            folder_in_archive=\"/home/zzf/playground/corpus/LibriSpeech\",\n",
    "            download=False,\n",
    "        )\n",
    "        self.device = device\n",
    "\n",
    "    def __len__(self):\n",
    "        return len(self.dataset)\n",
    "\n",
    "    def __getitem__(self, item):\n",
    "        audio, sample_rate, text, _, _, _ = self.dataset[item]\n",
    "        assert sample_rate == 16000\n",
    "        audio = whisper.pad_or_trim(audio.flatten()).to(self.device)\n",
    "        mel = whisper.log_mel_spectrogram(audio)\n",
    "        \n",
    "        return (mel, text)"
   ]
  },
  {
   "cell_type": "code",
   "execution_count": 41,
   "metadata": {
    "id": "-YcRU5jqNqo2"
   },
   "outputs": [
    {
     "data": {
      "text/plain": [
       "2620"
      ]
     },
     "execution_count": 41,
     "metadata": {},
     "output_type": "execute_result"
    }
   ],
   "source": [
    "dataset = LibriSpeech(\"test-clean\")\n",
    "loader = torch.utils.data.DataLoader(dataset, batch_size=16)\n",
    "dataset.__len__()"
   ]
  },
  {
   "cell_type": "markdown",
   "metadata": {
    "id": "0ljocCNuUAde"
   },
   "source": [
    "# Running inference on the dataset using a base Whisper model\n",
    "\n",
    "The following will take a few minutes to transcribe all utterances in the dataset."
   ]
  },
  {
   "cell_type": "code",
   "execution_count": 46,
   "metadata": {
    "colab": {
     "base_uri": "https://localhost:8080/"
    },
    "id": "_PokfNJtOYNu",
    "outputId": "2c53ec44-bc93-4107-b4fa-214e3f71fe8e"
   },
   "outputs": [
    {
     "name": "stdout",
     "output_type": "stream",
     "text": [
      "Model is English-only and has 762,320,896 parameters.\n"
     ]
    }
   ],
   "source": [
    "model = whisper.load_model(\"medium.en\")\n",
    "print(\n",
    "    f\"Model is {'multilingual' if model.is_multilingual else 'English-only'} \"\n",
    "    f\"and has {sum(np.prod(p.shape) for p in model.parameters()):,} parameters.\"\n",
    ")"
   ]
  },
  {
   "cell_type": "code",
   "execution_count": 47,
   "metadata": {},
   "outputs": [],
   "source": [
    "# predict without timestamps for short-form transcription\n",
    "options = whisper.DecodingOptions(language=\"en\", without_timestamps=True)"
   ]
  },
  {
   "cell_type": "code",
   "execution_count": 48,
   "metadata": {
    "colab": {
     "base_uri": "https://localhost:8080/",
     "height": 49,
     "referenced_widgets": [
      "09a29a91f58d4462942505a3cc415801",
      "83391f98a240490987c397048fc1a0d4",
      "06b9aa5f49fa44ba8c93b647dc7db224",
      "da9c231ee67047fb89073c95326b72a5",
      "48da931ebe7f4fd299f8c98c7d2460ff",
      "7a901f447c1d477bb49f954e0feacedd",
      "39f5a6ae8ba74c8598f9c6d5b8ad2d65",
      "a0d10a42c753453283e5219c22239337",
      "09f4cb79ff86465aaf48b0de24869af9",
      "1b9cecf5b3584fba8258a81d4279a25b",
      "039b53f2702c4179af7e0548018d0588"
     ]
    },
    "id": "7OWTn_KvNk59",
    "outputId": "a813a792-3c91-4144-f11f-054fd6778023"
   },
   "outputs": [
    {
     "data": {
      "application/vnd.jupyter.widget-view+json": {
       "model_id": "d7e18a1828b84cb6aa5144a1d32aa405",
       "version_major": 2,
       "version_minor": 0
      },
      "text/plain": [
       "  0%|          | 0/164 [00:00<?, ?it/s]"
      ]
     },
     "metadata": {},
     "output_type": "display_data"
    },
    {
     "name": "stderr",
     "output_type": "stream",
     "text": [
      "/home/zzf/software/anaconda3/envs/whisper/lib/python3.8/site-packages/whisper/decoding.py:750: UserWarning: This overload of nonzero is deprecated:\n",
      "\tnonzero()\n",
      "Consider using one of the following signatures instead:\n",
      "\tnonzero(*, bool as_tuple) (Triggered internally at  /pytorch/torch/csrc/utils/python_arg_parser.cpp:882.)\n",
      "  [t[self.sample_begin : (t == tokenizer.eot).nonzero()[0, 0]] for t in s]\n"
     ]
    }
   ],
   "source": [
    "hypotheses = []\n",
    "references = []\n",
    "\n",
    "for mels, texts in tqdm(loader):\n",
    "    results = model.decode(mels, options, fp16=False)\n",
    "    hypotheses.extend([result.text for result in results])\n",
    "    references.extend(texts)"
   ]
  },
  {
   "cell_type": "code",
   "execution_count": 49,
   "metadata": {
    "colab": {
     "base_uri": "https://localhost:8080/",
     "height": 424
    },
    "id": "4nTyynELQ42j",
    "outputId": "1c72d25a-3e87-4c60-a8d1-1da9d2f73bd7"
   },
   "outputs": [
    {
     "data": {
      "text/html": [
       "<div>\n",
       "<style scoped>\n",
       "    .dataframe tbody tr th:only-of-type {\n",
       "        vertical-align: middle;\n",
       "    }\n",
       "\n",
       "    .dataframe tbody tr th {\n",
       "        vertical-align: top;\n",
       "    }\n",
       "\n",
       "    .dataframe thead th {\n",
       "        text-align: right;\n",
       "    }\n",
       "</style>\n",
       "<table border=\"1\" class=\"dataframe\">\n",
       "  <thead>\n",
       "    <tr style=\"text-align: right;\">\n",
       "      <th></th>\n",
       "      <th>hypothesis</th>\n",
       "      <th>reference</th>\n",
       "    </tr>\n",
       "  </thead>\n",
       "  <tbody>\n",
       "    <tr>\n",
       "      <th>0</th>\n",
       "      <td>He hoped there would be stew for dinner, turni...</td>\n",
       "      <td>HE HOPED THERE WOULD BE STEW FOR DINNER TURNIP...</td>\n",
       "    </tr>\n",
       "    <tr>\n",
       "      <th>1</th>\n",
       "      <td>Stuff it into you, his belly counseled him.</td>\n",
       "      <td>STUFF IT INTO YOU HIS BELLY COUNSELLED HIM</td>\n",
       "    </tr>\n",
       "    <tr>\n",
       "      <th>2</th>\n",
       "      <td>After early nightfall the yellow lamps would l...</td>\n",
       "      <td>AFTER EARLY NIGHTFALL THE YELLOW LAMPS WOULD L...</td>\n",
       "    </tr>\n",
       "    <tr>\n",
       "      <th>3</th>\n",
       "      <td>Hello Bertie, any good in your mind?</td>\n",
       "      <td>HELLO BERTIE ANY GOOD IN YOUR MIND</td>\n",
       "    </tr>\n",
       "    <tr>\n",
       "      <th>4</th>\n",
       "      <td>Number ten, Fresh Nellie is waiting on you. Go...</td>\n",
       "      <td>NUMBER TEN FRESH NELLY IS WAITING ON YOU GOOD ...</td>\n",
       "    </tr>\n",
       "    <tr>\n",
       "      <th>...</th>\n",
       "      <td>...</td>\n",
       "      <td>...</td>\n",
       "    </tr>\n",
       "    <tr>\n",
       "      <th>2615</th>\n",
       "      <td>O, to shoot my soul's full meaning into future...</td>\n",
       "      <td>OH TO SHOOT MY SOUL'S FULL MEANING INTO FUTURE...</td>\n",
       "    </tr>\n",
       "    <tr>\n",
       "      <th>2616</th>\n",
       "      <td>Then I, long tried by natural ills, Receiv'd t...</td>\n",
       "      <td>THEN I LONG TRIED BY NATURAL ILLS RECEIVED THE...</td>\n",
       "    </tr>\n",
       "    <tr>\n",
       "      <th>2617</th>\n",
       "      <td>I love thee freely, as men strive for right, I...</td>\n",
       "      <td>I LOVE THEE FREELY AS MEN STRIVE FOR RIGHT I L...</td>\n",
       "    </tr>\n",
       "    <tr>\n",
       "      <th>2618</th>\n",
       "      <td>I love thee with the passion put to use, And m...</td>\n",
       "      <td>I LOVE THEE WITH THE PASSION PUT TO USE IN MY ...</td>\n",
       "    </tr>\n",
       "    <tr>\n",
       "      <th>2619</th>\n",
       "      <td>I love thee with a love I seem'd to lose with ...</td>\n",
       "      <td>I LOVE THEE WITH A LOVE I SEEMED TO LOSE WITH ...</td>\n",
       "    </tr>\n",
       "  </tbody>\n",
       "</table>\n",
       "<p>2620 rows × 2 columns</p>\n",
       "</div>"
      ],
      "text/plain": [
       "                                             hypothesis  \\\n",
       "0     He hoped there would be stew for dinner, turni...   \n",
       "1           Stuff it into you, his belly counseled him.   \n",
       "2     After early nightfall the yellow lamps would l...   \n",
       "3                  Hello Bertie, any good in your mind?   \n",
       "4     Number ten, Fresh Nellie is waiting on you. Go...   \n",
       "...                                                 ...   \n",
       "2615  O, to shoot my soul's full meaning into future...   \n",
       "2616  Then I, long tried by natural ills, Receiv'd t...   \n",
       "2617  I love thee freely, as men strive for right, I...   \n",
       "2618  I love thee with the passion put to use, And m...   \n",
       "2619  I love thee with a love I seem'd to lose with ...   \n",
       "\n",
       "                                              reference  \n",
       "0     HE HOPED THERE WOULD BE STEW FOR DINNER TURNIP...  \n",
       "1            STUFF IT INTO YOU HIS BELLY COUNSELLED HIM  \n",
       "2     AFTER EARLY NIGHTFALL THE YELLOW LAMPS WOULD L...  \n",
       "3                    HELLO BERTIE ANY GOOD IN YOUR MIND  \n",
       "4     NUMBER TEN FRESH NELLY IS WAITING ON YOU GOOD ...  \n",
       "...                                                 ...  \n",
       "2615  OH TO SHOOT MY SOUL'S FULL MEANING INTO FUTURE...  \n",
       "2616  THEN I LONG TRIED BY NATURAL ILLS RECEIVED THE...  \n",
       "2617  I LOVE THEE FREELY AS MEN STRIVE FOR RIGHT I L...  \n",
       "2618  I LOVE THEE WITH THE PASSION PUT TO USE IN MY ...  \n",
       "2619  I LOVE THEE WITH A LOVE I SEEMED TO LOSE WITH ...  \n",
       "\n",
       "[2620 rows x 2 columns]"
      ]
     },
     "execution_count": 49,
     "metadata": {},
     "output_type": "execute_result"
    }
   ],
   "source": [
    "data = pd.DataFrame(dict(hypothesis=hypotheses, reference=references))\n",
    "data"
   ]
  },
  {
   "cell_type": "markdown",
   "metadata": {
    "id": "HPppEJRXX4ox"
   },
   "source": [
    "# Calculating the word error rate\n",
    "\n",
    "Now, we use our English normalizer implementation to standardize the transcription and calculate the WER."
   ]
  },
  {
   "cell_type": "code",
   "execution_count": 50,
   "metadata": {
    "id": "dl-KBDflMhrg"
   },
   "outputs": [],
   "source": [
    "import jiwer\n",
    "from whisper.normalizers import EnglishTextNormalizer\n",
    "\n",
    "normalizer = EnglishTextNormalizer()"
   ]
  },
  {
   "cell_type": "code",
   "execution_count": 51,
   "metadata": {
    "colab": {
     "base_uri": "https://localhost:8080/",
     "height": 641
    },
    "id": "6-O048q4WI4o",
    "outputId": "f2089bc9-f535-441e-f192-26e52ae82b5e"
   },
   "outputs": [
    {
     "data": {
      "text/html": [
       "<div>\n",
       "<style scoped>\n",
       "    .dataframe tbody tr th:only-of-type {\n",
       "        vertical-align: middle;\n",
       "    }\n",
       "\n",
       "    .dataframe tbody tr th {\n",
       "        vertical-align: top;\n",
       "    }\n",
       "\n",
       "    .dataframe thead th {\n",
       "        text-align: right;\n",
       "    }\n",
       "</style>\n",
       "<table border=\"1\" class=\"dataframe\">\n",
       "  <thead>\n",
       "    <tr style=\"text-align: right;\">\n",
       "      <th></th>\n",
       "      <th>hypothesis</th>\n",
       "      <th>reference</th>\n",
       "      <th>hypothesis_clean</th>\n",
       "      <th>reference_clean</th>\n",
       "    </tr>\n",
       "  </thead>\n",
       "  <tbody>\n",
       "    <tr>\n",
       "      <th>0</th>\n",
       "      <td>He hoped there would be stew for dinner, turni...</td>\n",
       "      <td>HE HOPED THERE WOULD BE STEW FOR DINNER TURNIP...</td>\n",
       "      <td>he hoped there would be stew for dinner turnip...</td>\n",
       "      <td>he hoped there would be stew for dinner turnip...</td>\n",
       "    </tr>\n",
       "    <tr>\n",
       "      <th>1</th>\n",
       "      <td>Stuff it into you, his belly counseled him.</td>\n",
       "      <td>STUFF IT INTO YOU HIS BELLY COUNSELLED HIM</td>\n",
       "      <td>stuff it into you his belly counseled him</td>\n",
       "      <td>stuff it into you his belly counseled him</td>\n",
       "    </tr>\n",
       "    <tr>\n",
       "      <th>2</th>\n",
       "      <td>After early nightfall the yellow lamps would l...</td>\n",
       "      <td>AFTER EARLY NIGHTFALL THE YELLOW LAMPS WOULD L...</td>\n",
       "      <td>after early nightfall the yellow lamps would l...</td>\n",
       "      <td>after early nightfall the yellow lamps would l...</td>\n",
       "    </tr>\n",
       "    <tr>\n",
       "      <th>3</th>\n",
       "      <td>Hello Bertie, any good in your mind?</td>\n",
       "      <td>HELLO BERTIE ANY GOOD IN YOUR MIND</td>\n",
       "      <td>hello bertie any good in your mind</td>\n",
       "      <td>hello bertie any good in your mind</td>\n",
       "    </tr>\n",
       "    <tr>\n",
       "      <th>4</th>\n",
       "      <td>Number ten, Fresh Nellie is waiting on you. Go...</td>\n",
       "      <td>NUMBER TEN FRESH NELLY IS WAITING ON YOU GOOD ...</td>\n",
       "      <td>number 10 fresh nellie is waiting on you good ...</td>\n",
       "      <td>number 10 fresh nelly is waiting on you good n...</td>\n",
       "    </tr>\n",
       "    <tr>\n",
       "      <th>...</th>\n",
       "      <td>...</td>\n",
       "      <td>...</td>\n",
       "      <td>...</td>\n",
       "      <td>...</td>\n",
       "    </tr>\n",
       "    <tr>\n",
       "      <th>2615</th>\n",
       "      <td>O, to shoot my soul's full meaning into future...</td>\n",
       "      <td>OH TO SHOOT MY SOUL'S FULL MEANING INTO FUTURE...</td>\n",
       "      <td>0 to shoot my soul is full meaning into future...</td>\n",
       "      <td>0 to shoot my soul is full meaning into future...</td>\n",
       "    </tr>\n",
       "    <tr>\n",
       "      <th>2616</th>\n",
       "      <td>Then I, long tried by natural ills, Receiv'd t...</td>\n",
       "      <td>THEN I LONG TRIED BY NATURAL ILLS RECEIVED THE...</td>\n",
       "      <td>then i long tried by natural ills receiv would...</td>\n",
       "      <td>then i long tried by natural ills received the...</td>\n",
       "    </tr>\n",
       "    <tr>\n",
       "      <th>2617</th>\n",
       "      <td>I love thee freely, as men strive for right, I...</td>\n",
       "      <td>I LOVE THEE FREELY AS MEN STRIVE FOR RIGHT I L...</td>\n",
       "      <td>i love thee freely as men strive for right i l...</td>\n",
       "      <td>i love thee freely as men strive for right i l...</td>\n",
       "    </tr>\n",
       "    <tr>\n",
       "      <th>2618</th>\n",
       "      <td>I love thee with the passion put to use, And m...</td>\n",
       "      <td>I LOVE THEE WITH THE PASSION PUT TO USE IN MY ...</td>\n",
       "      <td>i love thee with the passion put to use and my...</td>\n",
       "      <td>i love thee with the passion put to use in my ...</td>\n",
       "    </tr>\n",
       "    <tr>\n",
       "      <th>2619</th>\n",
       "      <td>I love thee with a love I seem'd to lose with ...</td>\n",
       "      <td>I LOVE THEE WITH A LOVE I SEEMED TO LOSE WITH ...</td>\n",
       "      <td>i love thee with a love i seem would to lose w...</td>\n",
       "      <td>i love thee with a love i seemed to lose with ...</td>\n",
       "    </tr>\n",
       "  </tbody>\n",
       "</table>\n",
       "<p>2620 rows × 4 columns</p>\n",
       "</div>"
      ],
      "text/plain": [
       "                                             hypothesis  \\\n",
       "0     He hoped there would be stew for dinner, turni...   \n",
       "1           Stuff it into you, his belly counseled him.   \n",
       "2     After early nightfall the yellow lamps would l...   \n",
       "3                  Hello Bertie, any good in your mind?   \n",
       "4     Number ten, Fresh Nellie is waiting on you. Go...   \n",
       "...                                                 ...   \n",
       "2615  O, to shoot my soul's full meaning into future...   \n",
       "2616  Then I, long tried by natural ills, Receiv'd t...   \n",
       "2617  I love thee freely, as men strive for right, I...   \n",
       "2618  I love thee with the passion put to use, And m...   \n",
       "2619  I love thee with a love I seem'd to lose with ...   \n",
       "\n",
       "                                              reference  \\\n",
       "0     HE HOPED THERE WOULD BE STEW FOR DINNER TURNIP...   \n",
       "1            STUFF IT INTO YOU HIS BELLY COUNSELLED HIM   \n",
       "2     AFTER EARLY NIGHTFALL THE YELLOW LAMPS WOULD L...   \n",
       "3                    HELLO BERTIE ANY GOOD IN YOUR MIND   \n",
       "4     NUMBER TEN FRESH NELLY IS WAITING ON YOU GOOD ...   \n",
       "...                                                 ...   \n",
       "2615  OH TO SHOOT MY SOUL'S FULL MEANING INTO FUTURE...   \n",
       "2616  THEN I LONG TRIED BY NATURAL ILLS RECEIVED THE...   \n",
       "2617  I LOVE THEE FREELY AS MEN STRIVE FOR RIGHT I L...   \n",
       "2618  I LOVE THEE WITH THE PASSION PUT TO USE IN MY ...   \n",
       "2619  I LOVE THEE WITH A LOVE I SEEMED TO LOSE WITH ...   \n",
       "\n",
       "                                       hypothesis_clean  \\\n",
       "0     he hoped there would be stew for dinner turnip...   \n",
       "1             stuff it into you his belly counseled him   \n",
       "2     after early nightfall the yellow lamps would l...   \n",
       "3                    hello bertie any good in your mind   \n",
       "4     number 10 fresh nellie is waiting on you good ...   \n",
       "...                                                 ...   \n",
       "2615  0 to shoot my soul is full meaning into future...   \n",
       "2616  then i long tried by natural ills receiv would...   \n",
       "2617  i love thee freely as men strive for right i l...   \n",
       "2618  i love thee with the passion put to use and my...   \n",
       "2619  i love thee with a love i seem would to lose w...   \n",
       "\n",
       "                                        reference_clean  \n",
       "0     he hoped there would be stew for dinner turnip...  \n",
       "1             stuff it into you his belly counseled him  \n",
       "2     after early nightfall the yellow lamps would l...  \n",
       "3                    hello bertie any good in your mind  \n",
       "4     number 10 fresh nelly is waiting on you good n...  \n",
       "...                                                 ...  \n",
       "2615  0 to shoot my soul is full meaning into future...  \n",
       "2616  then i long tried by natural ills received the...  \n",
       "2617  i love thee freely as men strive for right i l...  \n",
       "2618  i love thee with the passion put to use in my ...  \n",
       "2619  i love thee with a love i seemed to lose with ...  \n",
       "\n",
       "[2620 rows x 4 columns]"
      ]
     },
     "execution_count": 51,
     "metadata": {},
     "output_type": "execute_result"
    }
   ],
   "source": [
    "data[\"hypothesis_clean\"] = [normalizer(text) for text in data[\"hypothesis\"]]\n",
    "data[\"reference_clean\"] = [normalizer(text) for text in data[\"reference\"]]\n",
    "data"
   ]
  },
  {
   "cell_type": "code",
   "execution_count": 52,
   "metadata": {
    "colab": {
     "base_uri": "https://localhost:8080/"
    },
    "id": "EBGSITeBYPTT",
    "outputId": "7b3dbe7c-a37e-4a07-a50a-b27d5f88b68f"
   },
   "outputs": [
    {
     "name": "stdout",
     "output_type": "stream",
     "text": [
      "WER: 3.02 %\n"
     ]
    }
   ],
   "source": [
    "wer = jiwer.wer(list(data[\"reference_clean\"]), list(data[\"hypothesis_clean\"]))\n",
    "\n",
    "print(f\"WER: {wer * 100:.2f} %\")"
   ]
  },
  {
   "cell_type": "code",
   "execution_count": null,
   "metadata": {},
   "outputs": [],
   "source": []
  }
 ],
 "metadata": {
  "accelerator": "GPU",
  "colab": {
   "collapsed_sections": [],
   "provenance": []
  },
  "gpuClass": "standard",
  "kernelspec": {
   "display_name": "Python 3 (ipykernel)",
   "language": "python",
   "name": "python3"
  },
  "language_info": {
   "codemirror_mode": {
    "name": "ipython",
    "version": 3
   },
   "file_extension": ".py",
   "mimetype": "text/x-python",
   "name": "python",
   "nbconvert_exporter": "python",
   "pygments_lexer": "ipython3",
   "version": "3.8.8"
  },
  "widgets": {
   "application/vnd.jupyter.widget-state+json": {
    "039b53f2702c4179af7e0548018d0588": {
     "model_module": "@jupyter-widgets/controls",
     "model_module_version": "1.5.0",
     "model_name": "DescriptionStyleModel",
     "state": {
      "_model_module": "@jupyter-widgets/controls",
      "_model_module_version": "1.5.0",
      "_model_name": "DescriptionStyleModel",
      "_view_count": null,
      "_view_module": "@jupyter-widgets/base",
      "_view_module_version": "1.2.0",
      "_view_name": "StyleView",
      "description_width": ""
     }
    },
    "06b9aa5f49fa44ba8c93b647dc7db224": {
     "model_module": "@jupyter-widgets/controls",
     "model_module_version": "1.5.0",
     "model_name": "FloatProgressModel",
     "state": {
      "_dom_classes": [],
      "_model_module": "@jupyter-widgets/controls",
      "_model_module_version": "1.5.0",
      "_model_name": "FloatProgressModel",
      "_view_count": null,
      "_view_module": "@jupyter-widgets/controls",
      "_view_module_version": "1.5.0",
      "_view_name": "ProgressView",
      "bar_style": "success",
      "description": "",
      "description_tooltip": null,
      "layout": "IPY_MODEL_a0d10a42c753453283e5219c22239337",
      "max": 164,
      "min": 0,
      "orientation": "horizontal",
      "style": "IPY_MODEL_09f4cb79ff86465aaf48b0de24869af9",
      "value": 164
     }
    },
    "09a29a91f58d4462942505a3cc415801": {
     "model_module": "@jupyter-widgets/controls",
     "model_module_version": "1.5.0",
     "model_name": "HBoxModel",
     "state": {
      "_dom_classes": [],
      "_model_module": "@jupyter-widgets/controls",
      "_model_module_version": "1.5.0",
      "_model_name": "HBoxModel",
      "_view_count": null,
      "_view_module": "@jupyter-widgets/controls",
      "_view_module_version": "1.5.0",
      "_view_name": "HBoxView",
      "box_style": "",
      "children": [
       "IPY_MODEL_83391f98a240490987c397048fc1a0d4",
       "IPY_MODEL_06b9aa5f49fa44ba8c93b647dc7db224",
       "IPY_MODEL_da9c231ee67047fb89073c95326b72a5"
      ],
      "layout": "IPY_MODEL_48da931ebe7f4fd299f8c98c7d2460ff"
     }
    },
    "09f4cb79ff86465aaf48b0de24869af9": {
     "model_module": "@jupyter-widgets/controls",
     "model_module_version": "1.5.0",
     "model_name": "ProgressStyleModel",
     "state": {
      "_model_module": "@jupyter-widgets/controls",
      "_model_module_version": "1.5.0",
      "_model_name": "ProgressStyleModel",
      "_view_count": null,
      "_view_module": "@jupyter-widgets/base",
      "_view_module_version": "1.2.0",
      "_view_name": "StyleView",
      "bar_color": null,
      "description_width": ""
     }
    },
    "1b9cecf5b3584fba8258a81d4279a25b": {
     "model_module": "@jupyter-widgets/base",
     "model_module_version": "1.2.0",
     "model_name": "LayoutModel",
     "state": {
      "_model_module": "@jupyter-widgets/base",
      "_model_module_version": "1.2.0",
      "_model_name": "LayoutModel",
      "_view_count": null,
      "_view_module": "@jupyter-widgets/base",
      "_view_module_version": "1.2.0",
      "_view_name": "LayoutView",
      "align_content": null,
      "align_items": null,
      "align_self": null,
      "border": null,
      "bottom": null,
      "display": null,
      "flex": null,
      "flex_flow": null,
      "grid_area": null,
      "grid_auto_columns": null,
      "grid_auto_flow": null,
      "grid_auto_rows": null,
      "grid_column": null,
      "grid_gap": null,
      "grid_row": null,
      "grid_template_areas": null,
      "grid_template_columns": null,
      "grid_template_rows": null,
      "height": null,
      "justify_content": null,
      "justify_items": null,
      "left": null,
      "margin": null,
      "max_height": null,
      "max_width": null,
      "min_height": null,
      "min_width": null,
      "object_fit": null,
      "object_position": null,
      "order": null,
      "overflow": null,
      "overflow_x": null,
      "overflow_y": null,
      "padding": null,
      "right": null,
      "top": null,
      "visibility": null,
      "width": null
     }
    },
    "39f5a6ae8ba74c8598f9c6d5b8ad2d65": {
     "model_module": "@jupyter-widgets/controls",
     "model_module_version": "1.5.0",
     "model_name": "DescriptionStyleModel",
     "state": {
      "_model_module": "@jupyter-widgets/controls",
      "_model_module_version": "1.5.0",
      "_model_name": "DescriptionStyleModel",
      "_view_count": null,
      "_view_module": "@jupyter-widgets/base",
      "_view_module_version": "1.2.0",
      "_view_name": "StyleView",
      "description_width": ""
     }
    },
    "48da931ebe7f4fd299f8c98c7d2460ff": {
     "model_module": "@jupyter-widgets/base",
     "model_module_version": "1.2.0",
     "model_name": "LayoutModel",
     "state": {
      "_model_module": "@jupyter-widgets/base",
      "_model_module_version": "1.2.0",
      "_model_name": "LayoutModel",
      "_view_count": null,
      "_view_module": "@jupyter-widgets/base",
      "_view_module_version": "1.2.0",
      "_view_name": "LayoutView",
      "align_content": null,
      "align_items": null,
      "align_self": null,
      "border": null,
      "bottom": null,
      "display": null,
      "flex": null,
      "flex_flow": null,
      "grid_area": null,
      "grid_auto_columns": null,
      "grid_auto_flow": null,
      "grid_auto_rows": null,
      "grid_column": null,
      "grid_gap": null,
      "grid_row": null,
      "grid_template_areas": null,
      "grid_template_columns": null,
      "grid_template_rows": null,
      "height": null,
      "justify_content": null,
      "justify_items": null,
      "left": null,
      "margin": null,
      "max_height": null,
      "max_width": null,
      "min_height": null,
      "min_width": null,
      "object_fit": null,
      "object_position": null,
      "order": null,
      "overflow": null,
      "overflow_x": null,
      "overflow_y": null,
      "padding": null,
      "right": null,
      "top": null,
      "visibility": null,
      "width": null
     }
    },
    "7a901f447c1d477bb49f954e0feacedd": {
     "model_module": "@jupyter-widgets/base",
     "model_module_version": "1.2.0",
     "model_name": "LayoutModel",
     "state": {
      "_model_module": "@jupyter-widgets/base",
      "_model_module_version": "1.2.0",
      "_model_name": "LayoutModel",
      "_view_count": null,
      "_view_module": "@jupyter-widgets/base",
      "_view_module_version": "1.2.0",
      "_view_name": "LayoutView",
      "align_content": null,
      "align_items": null,
      "align_self": null,
      "border": null,
      "bottom": null,
      "display": null,
      "flex": null,
      "flex_flow": null,
      "grid_area": null,
      "grid_auto_columns": null,
      "grid_auto_flow": null,
      "grid_auto_rows": null,
      "grid_column": null,
      "grid_gap": null,
      "grid_row": null,
      "grid_template_areas": null,
      "grid_template_columns": null,
      "grid_template_rows": null,
      "height": null,
      "justify_content": null,
      "justify_items": null,
      "left": null,
      "margin": null,
      "max_height": null,
      "max_width": null,
      "min_height": null,
      "min_width": null,
      "object_fit": null,
      "object_position": null,
      "order": null,
      "overflow": null,
      "overflow_x": null,
      "overflow_y": null,
      "padding": null,
      "right": null,
      "top": null,
      "visibility": null,
      "width": null
     }
    },
    "83391f98a240490987c397048fc1a0d4": {
     "model_module": "@jupyter-widgets/controls",
     "model_module_version": "1.5.0",
     "model_name": "HTMLModel",
     "state": {
      "_dom_classes": [],
      "_model_module": "@jupyter-widgets/controls",
      "_model_module_version": "1.5.0",
      "_model_name": "HTMLModel",
      "_view_count": null,
      "_view_module": "@jupyter-widgets/controls",
      "_view_module_version": "1.5.0",
      "_view_name": "HTMLView",
      "description": "",
      "description_tooltip": null,
      "layout": "IPY_MODEL_7a901f447c1d477bb49f954e0feacedd",
      "placeholder": "​",
      "style": "IPY_MODEL_39f5a6ae8ba74c8598f9c6d5b8ad2d65",
      "value": "100%"
     }
    },
    "a0d10a42c753453283e5219c22239337": {
     "model_module": "@jupyter-widgets/base",
     "model_module_version": "1.2.0",
     "model_name": "LayoutModel",
     "state": {
      "_model_module": "@jupyter-widgets/base",
      "_model_module_version": "1.2.0",
      "_model_name": "LayoutModel",
      "_view_count": null,
      "_view_module": "@jupyter-widgets/base",
      "_view_module_version": "1.2.0",
      "_view_name": "LayoutView",
      "align_content": null,
      "align_items": null,
      "align_self": null,
      "border": null,
      "bottom": null,
      "display": null,
      "flex": null,
      "flex_flow": null,
      "grid_area": null,
      "grid_auto_columns": null,
      "grid_auto_flow": null,
      "grid_auto_rows": null,
      "grid_column": null,
      "grid_gap": null,
      "grid_row": null,
      "grid_template_areas": null,
      "grid_template_columns": null,
      "grid_template_rows": null,
      "height": null,
      "justify_content": null,
      "justify_items": null,
      "left": null,
      "margin": null,
      "max_height": null,
      "max_width": null,
      "min_height": null,
      "min_width": null,
      "object_fit": null,
      "object_position": null,
      "order": null,
      "overflow": null,
      "overflow_x": null,
      "overflow_y": null,
      "padding": null,
      "right": null,
      "top": null,
      "visibility": null,
      "width": null
     }
    },
    "da9c231ee67047fb89073c95326b72a5": {
     "model_module": "@jupyter-widgets/controls",
     "model_module_version": "1.5.0",
     "model_name": "HTMLModel",
     "state": {
      "_dom_classes": [],
      "_model_module": "@jupyter-widgets/controls",
      "_model_module_version": "1.5.0",
      "_model_name": "HTMLModel",
      "_view_count": null,
      "_view_module": "@jupyter-widgets/controls",
      "_view_module_version": "1.5.0",
      "_view_name": "HTMLView",
      "description": "",
      "description_tooltip": null,
      "layout": "IPY_MODEL_1b9cecf5b3584fba8258a81d4279a25b",
      "placeholder": "​",
      "style": "IPY_MODEL_039b53f2702c4179af7e0548018d0588",
      "value": " 164/164 [05:08&lt;00:00,  1.86s/it]"
     }
    }
   }
  }
 },
 "nbformat": 4,
 "nbformat_minor": 1
}
